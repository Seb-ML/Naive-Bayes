{
 "cells": [
  {
   "cell_type": "markdown",
   "metadata": {},
   "source": [
    "**The aim of this notebook is to implement a Naive Bayes classifier in NumPy and use it to predict the sentiment of a movie review. Data is obtained from: https://www.mth548.org/Projects/text_with_naive_bayes/text_with_naive_bayes.html**"
   ]
  },
  {
   "cell_type": "markdown",
   "metadata": {},
   "source": [
    "Contents:  \n",
    "1. Data pre-processing\n",
    "2. Implementing Naive Bayes in Numpy\n",
    "3. Predicting sentiment on test data\n",
    "4. Improving the model"
   ]
  },
  {
   "cell_type": "markdown",
   "metadata": {},
   "source": [
    "**Loading data**"
   ]
  },
  {
   "cell_type": "code",
   "execution_count": 1,
   "metadata": {},
   "outputs": [],
   "source": [
    "import numpy as np\n",
    "import pandas as pd\n",
    "\n",
    "path = r'C:\\Users\\sdrin\\Desktop'\n",
    "movie_reviews = pd.read_csv(path + '\\movie_reviews.csv')"
   ]
  },
  {
   "cell_type": "code",
   "execution_count": 2,
   "metadata": {},
   "outputs": [
    {
     "data": {
      "text/html": [
       "<div>\n",
       "<style scoped>\n",
       "    .dataframe tbody tr th:only-of-type {\n",
       "        vertical-align: middle;\n",
       "    }\n",
       "\n",
       "    .dataframe tbody tr th {\n",
       "        vertical-align: top;\n",
       "    }\n",
       "\n",
       "    .dataframe thead th {\n",
       "        text-align: right;\n",
       "    }\n",
       "</style>\n",
       "<table border=\"1\" class=\"dataframe\">\n",
       "  <thead>\n",
       "    <tr style=\"text-align: right;\">\n",
       "      <th></th>\n",
       "      <th>review</th>\n",
       "      <th>sentiment</th>\n",
       "    </tr>\n",
       "  </thead>\n",
       "  <tbody>\n",
       "    <tr>\n",
       "      <th>0</th>\n",
       "      <td>This film is absolutely awful, but nevertheles...</td>\n",
       "      <td>negative</td>\n",
       "    </tr>\n",
       "    <tr>\n",
       "      <th>1</th>\n",
       "      <td>Well since seeing part's 1 through 3 I can hon...</td>\n",
       "      <td>negative</td>\n",
       "    </tr>\n",
       "    <tr>\n",
       "      <th>2</th>\n",
       "      <td>I got to see this film at a preview and was da...</td>\n",
       "      <td>positive</td>\n",
       "    </tr>\n",
       "    <tr>\n",
       "      <th>3</th>\n",
       "      <td>This adaptation positively butchers a classic ...</td>\n",
       "      <td>negative</td>\n",
       "    </tr>\n",
       "    <tr>\n",
       "      <th>4</th>\n",
       "      <td>Råzone is an awful movie! It is so simple. It ...</td>\n",
       "      <td>negative</td>\n",
       "    </tr>\n",
       "  </tbody>\n",
       "</table>\n",
       "</div>"
      ],
      "text/plain": [
       "                                              review sentiment\n",
       "0  This film is absolutely awful, but nevertheles...  negative\n",
       "1  Well since seeing part's 1 through 3 I can hon...  negative\n",
       "2  I got to see this film at a preview and was da...  positive\n",
       "3  This adaptation positively butchers a classic ...  negative\n",
       "4  Råzone is an awful movie! It is so simple. It ...  negative"
      ]
     },
     "execution_count": 2,
     "metadata": {},
     "output_type": "execute_result"
    }
   ],
   "source": [
    "movie_reviews.head(5)"
   ]
  },
  {
   "cell_type": "markdown",
   "metadata": {},
   "source": [
    "**Pre-processing**"
   ]
  },
  {
   "cell_type": "code",
   "execution_count": 3,
   "metadata": {
    "scrolled": false
   },
   "outputs": [],
   "source": [
    "# remove recurring html\n",
    "movie_reviews['review_'] = movie_reviews.review.apply(lambda x: x.replace(\"<br /><br />\",\" \"))"
   ]
  },
  {
   "cell_type": "code",
   "execution_count": 4,
   "metadata": {},
   "outputs": [],
   "source": [
    "# remove punctuation\n",
    "import string\n",
    "def remove_punctuation(text):\n",
    "    no_punc = \"\".join([t for t in text if t not in string.punctuation])\n",
    "    return no_punc.lower()\n",
    "\n",
    "movie_reviews.review_ = movie_reviews.review_.apply(lambda x: remove_punctuation(x))"
   ]
  },
  {
   "cell_type": "code",
   "execution_count": 5,
   "metadata": {},
   "outputs": [],
   "source": [
    "# tokenize\n",
    "import re\n",
    "\n",
    "def tokenize(text):\n",
    "    tokens = re.split('\\W+',text)\n",
    "    return tokens\n",
    "\n",
    "movie_reviews.review_ = movie_reviews.review_.apply(lambda x: tokenize(x))"
   ]
  },
  {
   "cell_type": "code",
   "execution_count": 6,
   "metadata": {},
   "outputs": [],
   "source": [
    "# remove stop words\n",
    "import nltk\n",
    "from nltk.corpus import stopwords\n",
    "stop_words = stopwords.words('english')\n",
    "# add some of our own stop words based on knowledge of the data\n",
    "add = ['movie','film','movies','films','cinema','review']\n",
    "for a in add:\n",
    "    stop_words.append(a)\n",
    "    \n",
    "stop_words = [remove_punctuation(s) for s in stop_words]\n",
    "\n",
    "def remove_stopwords(text):\n",
    "    no_stop = [w for w in text if w not in stop_words]\n",
    "    return no_stop\n",
    "\n",
    "movie_reviews.review_ = movie_reviews.review_.apply(lambda x: remove_stopwords(x))"
   ]
  },
  {
   "cell_type": "code",
   "execution_count": 7,
   "metadata": {},
   "outputs": [
    {
     "data": {
      "text/html": [
       "<div>\n",
       "<style scoped>\n",
       "    .dataframe tbody tr th:only-of-type {\n",
       "        vertical-align: middle;\n",
       "    }\n",
       "\n",
       "    .dataframe tbody tr th {\n",
       "        vertical-align: top;\n",
       "    }\n",
       "\n",
       "    .dataframe thead th {\n",
       "        text-align: right;\n",
       "    }\n",
       "</style>\n",
       "<table border=\"1\" class=\"dataframe\">\n",
       "  <thead>\n",
       "    <tr style=\"text-align: right;\">\n",
       "      <th></th>\n",
       "      <th>vocab</th>\n",
       "      <th>count</th>\n",
       "    </tr>\n",
       "  </thead>\n",
       "  <tbody>\n",
       "    <tr>\n",
       "      <th>0</th>\n",
       "      <td>one</td>\n",
       "      <td>25729</td>\n",
       "    </tr>\n",
       "    <tr>\n",
       "      <th>1</th>\n",
       "      <td>like</td>\n",
       "      <td>19682</td>\n",
       "    </tr>\n",
       "    <tr>\n",
       "      <th>2</th>\n",
       "      <td>good</td>\n",
       "      <td>14710</td>\n",
       "    </tr>\n",
       "    <tr>\n",
       "      <th>3</th>\n",
       "      <td>even</td>\n",
       "      <td>12511</td>\n",
       "    </tr>\n",
       "    <tr>\n",
       "      <th>4</th>\n",
       "      <td>would</td>\n",
       "      <td>12141</td>\n",
       "    </tr>\n",
       "  </tbody>\n",
       "</table>\n",
       "</div>"
      ],
      "text/plain": [
       "   vocab  count\n",
       "0    one  25729\n",
       "1   like  19682\n",
       "2   good  14710\n",
       "3   even  12511\n",
       "4  would  12141"
      ]
     },
     "execution_count": 7,
     "metadata": {},
     "output_type": "execute_result"
    }
   ],
   "source": [
    "# Get the frequency of all vocab\n",
    "vocab = movie_reviews.review_[0]\n",
    "for r in range(len(movie_reviews.review_)-1):\n",
    "    vocab += movie_reviews.review_[r+1]\n",
    "\n",
    "df = pd.DataFrame(vocab,columns=['vocab'])\n",
    "df['count'] = df.groupby('vocab')['vocab'].transform('count')\n",
    "df.sort_values('count',ascending = False, inplace=True)\n",
    "df.drop_duplicates(inplace=True)\n",
    "df.reset_index(drop=True, inplace=True)\n",
    "df.head()"
   ]
  },
  {
   "cell_type": "code",
   "execution_count": 8,
   "metadata": {
    "scrolled": true
   },
   "outputs": [],
   "source": [
    "# use the most frequent 1000 words to train the algorithm on\n",
    "vocab = df['vocab'][:1000].values"
   ]
  },
  {
   "cell_type": "code",
   "execution_count": 9,
   "metadata": {},
   "outputs": [
    {
     "data": {
      "text/html": [
       "<div>\n",
       "<style scoped>\n",
       "    .dataframe tbody tr th:only-of-type {\n",
       "        vertical-align: middle;\n",
       "    }\n",
       "\n",
       "    .dataframe tbody tr th {\n",
       "        vertical-align: top;\n",
       "    }\n",
       "\n",
       "    .dataframe thead th {\n",
       "        text-align: right;\n",
       "    }\n",
       "</style>\n",
       "<table border=\"1\" class=\"dataframe\">\n",
       "  <thead>\n",
       "    <tr style=\"text-align: right;\">\n",
       "      <th></th>\n",
       "      <th>review</th>\n",
       "      <th>sentiment</th>\n",
       "      <th>review_</th>\n",
       "      <th>vectorized</th>\n",
       "    </tr>\n",
       "  </thead>\n",
       "  <tbody>\n",
       "    <tr>\n",
       "      <th>0</th>\n",
       "      <td>This film is absolutely awful, but nevertheles...</td>\n",
       "      <td>negative</td>\n",
       "      <td>[absolutely, awful, nevertheless, hilarious, t...</td>\n",
       "      <td>[1, 1, 1, 1, 1, 1, 1, 1, 1, 1, 1, 1, 1, 1, 1, ...</td>\n",
       "    </tr>\n",
       "    <tr>\n",
       "      <th>1</th>\n",
       "      <td>Well since seeing part's 1 through 3 I can hon...</td>\n",
       "      <td>negative</td>\n",
       "      <td>[well, since, seeing, parts, 1, 3, honestly, s...</td>\n",
       "      <td>[1, 0, 1, 1, 0, 0, 1, 1, 1, 1, 1, 0, 0, 1, 0, ...</td>\n",
       "    </tr>\n",
       "    <tr>\n",
       "      <th>2</th>\n",
       "      <td>I got to see this film at a preview and was da...</td>\n",
       "      <td>positive</td>\n",
       "      <td>[got, see, preview, dazzled, typical, romantic...</td>\n",
       "      <td>[1, 0, 0, 1, 0, 1, 1, 0, 1, 1, 0, 0, 0, 0, 0, ...</td>\n",
       "    </tr>\n",
       "    <tr>\n",
       "      <th>3</th>\n",
       "      <td>This adaptation positively butchers a classic ...</td>\n",
       "      <td>negative</td>\n",
       "      <td>[adaptation, positively, butchers, classic, be...</td>\n",
       "      <td>[0, 0, 0, 1, 0, 0, 0, 0, 0, 0, 0, 1, 1, 0, 0, ...</td>\n",
       "    </tr>\n",
       "    <tr>\n",
       "      <th>4</th>\n",
       "      <td>Råzone is an awful movie! It is so simple. It ...</td>\n",
       "      <td>negative</td>\n",
       "      <td>[råzone, awful, simple, seems, tried, make, sh...</td>\n",
       "      <td>[0, 1, 1, 1, 0, 0, 0, 0, 1, 0, 0, 0, 1, 0, 1, ...</td>\n",
       "    </tr>\n",
       "    <tr>\n",
       "      <th>...</th>\n",
       "      <td>...</td>\n",
       "      <td>...</td>\n",
       "      <td>...</td>\n",
       "      <td>...</td>\n",
       "    </tr>\n",
       "    <tr>\n",
       "      <th>24995</th>\n",
       "      <td>With this movie being the only Dirty Harry mov...</td>\n",
       "      <td>positive</td>\n",
       "      <td>[dirty, harry, clint, eastwood, stars, produce...</td>\n",
       "      <td>[0, 0, 1, 0, 0, 0, 0, 0, 1, 0, 1, 1, 1, 0, 0, ...</td>\n",
       "    </tr>\n",
       "    <tr>\n",
       "      <th>24996</th>\n",
       "      <td>Any screen adaptation of a John Grisham story ...</td>\n",
       "      <td>positive</td>\n",
       "      <td>[screen, adaptation, john, grisham, story, des...</td>\n",
       "      <td>[0, 0, 1, 0, 1, 0, 0, 1, 0, 1, 1, 0, 1, 1, 0, ...</td>\n",
       "    </tr>\n",
       "    <tr>\n",
       "      <th>24997</th>\n",
       "      <td>This film captured my heart from the very begi...</td>\n",
       "      <td>positive</td>\n",
       "      <td>[captured, heart, beginning, hearing, quincy, ...</td>\n",
       "      <td>[0, 0, 0, 1, 0, 0, 1, 0, 0, 0, 0, 0, 0, 0, 1, ...</td>\n",
       "    </tr>\n",
       "    <tr>\n",
       "      <th>24998</th>\n",
       "      <td>A deplorable social condition triggers off the...</td>\n",
       "      <td>positive</td>\n",
       "      <td>[deplorable, social, condition, triggers, cata...</td>\n",
       "      <td>[0, 0, 0, 0, 0, 0, 0, 0, 1, 0, 0, 1, 1, 0, 0, ...</td>\n",
       "    </tr>\n",
       "    <tr>\n",
       "      <th>24999</th>\n",
       "      <td>Always enjoy the great acting of Drew Barrymor...</td>\n",
       "      <td>positive</td>\n",
       "      <td>[always, enjoy, great, acting, drew, barrymore...</td>\n",
       "      <td>[0, 0, 1, 0, 0, 0, 0, 0, 1, 0, 0, 0, 0, 0, 0, ...</td>\n",
       "    </tr>\n",
       "  </tbody>\n",
       "</table>\n",
       "<p>25000 rows × 4 columns</p>\n",
       "</div>"
      ],
      "text/plain": [
       "                                                  review sentiment  \\\n",
       "0      This film is absolutely awful, but nevertheles...  negative   \n",
       "1      Well since seeing part's 1 through 3 I can hon...  negative   \n",
       "2      I got to see this film at a preview and was da...  positive   \n",
       "3      This adaptation positively butchers a classic ...  negative   \n",
       "4      Råzone is an awful movie! It is so simple. It ...  negative   \n",
       "...                                                  ...       ...   \n",
       "24995  With this movie being the only Dirty Harry mov...  positive   \n",
       "24996  Any screen adaptation of a John Grisham story ...  positive   \n",
       "24997  This film captured my heart from the very begi...  positive   \n",
       "24998  A deplorable social condition triggers off the...  positive   \n",
       "24999  Always enjoy the great acting of Drew Barrymor...  positive   \n",
       "\n",
       "                                                 review_  \\\n",
       "0      [absolutely, awful, nevertheless, hilarious, t...   \n",
       "1      [well, since, seeing, parts, 1, 3, honestly, s...   \n",
       "2      [got, see, preview, dazzled, typical, romantic...   \n",
       "3      [adaptation, positively, butchers, classic, be...   \n",
       "4      [råzone, awful, simple, seems, tried, make, sh...   \n",
       "...                                                  ...   \n",
       "24995  [dirty, harry, clint, eastwood, stars, produce...   \n",
       "24996  [screen, adaptation, john, grisham, story, des...   \n",
       "24997  [captured, heart, beginning, hearing, quincy, ...   \n",
       "24998  [deplorable, social, condition, triggers, cata...   \n",
       "24999  [always, enjoy, great, acting, drew, barrymore...   \n",
       "\n",
       "                                              vectorized  \n",
       "0      [1, 1, 1, 1, 1, 1, 1, 1, 1, 1, 1, 1, 1, 1, 1, ...  \n",
       "1      [1, 0, 1, 1, 0, 0, 1, 1, 1, 1, 1, 0, 0, 1, 0, ...  \n",
       "2      [1, 0, 0, 1, 0, 1, 1, 0, 1, 1, 0, 0, 0, 0, 0, ...  \n",
       "3      [0, 0, 0, 1, 0, 0, 0, 0, 0, 0, 0, 1, 1, 0, 0, ...  \n",
       "4      [0, 1, 1, 1, 0, 0, 0, 0, 1, 0, 0, 0, 1, 0, 1, ...  \n",
       "...                                                  ...  \n",
       "24995  [0, 0, 1, 0, 0, 0, 0, 0, 1, 0, 1, 1, 1, 0, 0, ...  \n",
       "24996  [0, 0, 1, 0, 1, 0, 0, 1, 0, 1, 1, 0, 1, 1, 0, ...  \n",
       "24997  [0, 0, 0, 1, 0, 0, 1, 0, 0, 0, 0, 0, 0, 0, 1, ...  \n",
       "24998  [0, 0, 0, 0, 0, 0, 0, 0, 1, 0, 0, 1, 1, 0, 0, ...  \n",
       "24999  [0, 0, 1, 0, 0, 0, 0, 0, 1, 0, 0, 0, 0, 0, 0, ...  \n",
       "\n",
       "[25000 rows x 4 columns]"
      ]
     },
     "execution_count": 9,
     "metadata": {},
     "output_type": "execute_result"
    }
   ],
   "source": [
    "# obtain a vector representing if a word appears in a review\n",
    "def vectorize(text,vocab):\n",
    "    vector = []\n",
    "    for word in vocab:\n",
    "        if word in text:\n",
    "            vector.append(1)\n",
    "        else:\n",
    "            vector.append(0)\n",
    "    return vector\n",
    "\n",
    "movie_reviews['vectorized'] = movie_reviews['review_'].copy()\n",
    "movie_reviews['vectorized'] = movie_reviews['review_'].apply(lambda x: vectorize(x,vocab))\n",
    "movie_reviews"
   ]
  },
  {
   "cell_type": "markdown",
   "metadata": {},
   "source": [
    "**Implementing Naive Bayes Algorithm**"
   ]
  },
  {
   "cell_type": "markdown",
   "metadata": {},
   "source": [
    "Bayes Classifiers work by finding the probability of the **class** given the **data**:  \n",
    "\n",
    "**P(class|data) =** $\\frac{P(data|class) P(class) }{P(data)}$\n",
    "\n",
    "**P(data|class)** is Guassian distributed likelihood; ie given the class what is the likelihood of obtaining exactly this data under a Guassian distribution?  \n",
    "\n",
    "**P(class)** is our prior belief; what we know about the distribution of each class eg 70% positive\n",
    "\n",
    "**P(data)** will cancel out as we are only interested in which of P(class|data) is higher for each class.  \n",
    "\n",
    "We call it \"Naive\" because of the naive assumption that the data are all independantly distributed (covariance = 0). \n",
    "\n",
    "For example in a single review P(\"funny\"|\"hilarious\") > P(\"funny\"|\"boring\") due to covariance. But with Naive bayes we assume the probabilites are equal. This is to simplify the algorithm, as calculating covariances between all possible words will significantly increase the order of complexity and computational time."
   ]
  },
  {
   "cell_type": "markdown",
   "metadata": {},
   "source": [
    "In our case, we have P(y|X) where X is a feature vector (x<sub>1</sub>, x<sub>2</sub>, x<sub>3</sub>, ... ,x<sub>n</sub>):\n",
    "\n",
    "P(y|X) = $\\frac{P(X|y) P(y) }{P(X)}$\n",
    "\n",
    "For selecting the class with the highest probability:\n",
    "\n",
    "**y = argmax<sub>y</sub>P(x<sub>1</sub>|y) P(x<sub>2</sub>|y) ... P(x<sub>n</sub>|y).P(y)**\n",
    "\n",
    "\n",
    "Since the log function is monotonically increasing, we can take the log of everything to turn a product into a summation (easier to compute)\n",
    "\n",
    "**y = argmax<sub>y</sub>log(P(x<sub>1</sub>|y)) + log(P(x<sub>2</sub>|y)) +...+ log(P(x<sub>n</sub>|y)) + log(P(y))** \n",
    "\n",
    "log(P(x<sub>i</sub>|y) can be obtained by calculating the pdf from the N(mean, var) distribution, taking the log and summing over y.\n",
    "\n",
    "Using scipy.stats multivariate normal package allows us to use the multivariate normal distribution and plug in the vector X directly."
   ]
  },
  {
   "cell_type": "code",
   "execution_count": 10,
   "metadata": {},
   "outputs": [],
   "source": [
    "# implementing Naive Bayes\n",
    "from scipy.stats import multivariate_normal as mvn\n",
    "\n",
    "class NaiveBayes(object):\n",
    "    \n",
    "    def fit(self, X, y, smoothing=1e-2):\n",
    "        self.gaussians = dict() # empty dictionary to hold P(X|y)\n",
    "        self.priors = dict() # empty dictionary to hold P(y)\n",
    "        labels = set(y)\n",
    "        for c in labels:\n",
    "            X_c = X[y==c] # X|y\n",
    "            self.gaussians[c] = {\n",
    "                'mean': X_c.mean(axis=0),\n",
    "                'var': X_c.var(axis=0) + smoothing,\n",
    "            }\n",
    "            self.priors[c] = len(y[y==c]) / len(y) # P(y)\n",
    "    \n",
    "    def score(self, X, y):\n",
    "        P = self.predict(X)\n",
    "        return np.mean(P==y)\n",
    "            \n",
    "    def predict(self, X):\n",
    "        N, D = X.shape\n",
    "        K = len(self.gaussians)\n",
    "        P = np.zeros((N, K))\n",
    "        for c, g in iter(self.gaussians.items()):\n",
    "            mean, var = g['mean'], g['var']\n",
    "            P[:,c] = mvn.logpdf(X, mean=mean, cov=var) + np.log(self.priors[c]) # log(P(X|y)) + log(P(y))\n",
    "        return np.argmax(P, axis=1)"
   ]
  },
  {
   "cell_type": "code",
   "execution_count": 11,
   "metadata": {
    "scrolled": false
   },
   "outputs": [
    {
     "data": {
      "text/plain": [
       "array([[1, 1, 1, ..., 1, 1, 1],\n",
       "       [1, 0, 1, ..., 0, 0, 0],\n",
       "       [1, 0, 0, ..., 0, 0, 0],\n",
       "       ...,\n",
       "       [0, 0, 0, ..., 0, 0, 0],\n",
       "       [0, 0, 0, ..., 0, 0, 0],\n",
       "       [0, 0, 1, ..., 0, 0, 0]])"
      ]
     },
     "execution_count": 11,
     "metadata": {},
     "output_type": "execute_result"
    }
   ],
   "source": [
    "X = np.array([a for a in movie_reviews.vectorized])\n",
    "X"
   ]
  },
  {
   "cell_type": "code",
   "execution_count": 12,
   "metadata": {},
   "outputs": [
    {
     "data": {
      "text/plain": [
       "(25000, 1000)"
      ]
     },
     "execution_count": 12,
     "metadata": {},
     "output_type": "execute_result"
    }
   ],
   "source": [
    "X.shape"
   ]
  },
  {
   "cell_type": "code",
   "execution_count": 13,
   "metadata": {},
   "outputs": [
    {
     "data": {
      "text/plain": [
       "array([0, 0, 1, ..., 1, 1, 1])"
      ]
     },
     "execution_count": 13,
     "metadata": {},
     "output_type": "execute_result"
    }
   ],
   "source": [
    "sent_dict = {\n",
    "    'negative': 0,\n",
    "    'positive': 1,\n",
    "}\n",
    "movie_reviews['sentiment'] = movie_reviews['sentiment'].map(sent_dict)\n",
    "\n",
    "y = np.array([i for i in movie_reviews.sentiment])\n",
    "y"
   ]
  },
  {
   "cell_type": "code",
   "execution_count": 14,
   "metadata": {},
   "outputs": [
    {
     "data": {
      "text/plain": [
       "(25000,)"
      ]
     },
     "execution_count": 14,
     "metadata": {},
     "output_type": "execute_result"
    }
   ],
   "source": [
    "y.shape"
   ]
  },
  {
   "cell_type": "code",
   "execution_count": 15,
   "metadata": {},
   "outputs": [
    {
     "name": "stdout",
     "output_type": "stream",
     "text": [
      "train score: 0.83365\n",
      "test score: 0.825\n"
     ]
    }
   ],
   "source": [
    "from sklearn.model_selection import train_test_split\n",
    "\n",
    "idx = movie_reviews.index.values\n",
    "\n",
    "X_train, X_test, y_train, y_test, idx_train, idx_test = train_test_split(X, y, idx, test_size = 0.2, random_state = 123)\n",
    "\n",
    "model = NaiveBayes()\n",
    "model.fit(X_train, y_train)\n",
    "predictions_test = model.predict(X_test)\n",
    "\n",
    "print(\"train score:\", model.score(X_train, y_train))\n",
    "print(\"test score:\", model.score(X_test, y_test))"
   ]
  },
  {
   "cell_type": "markdown",
   "metadata": {},
   "source": [
    "82.5% of the reviews in the test set we managed to match the sentiment to the review. Very close to the train score which means we have very little over-fitting."
   ]
  }
 ],
 "metadata": {
  "kernelspec": {
   "display_name": "Python 3",
   "language": "python",
   "name": "python3"
  },
  "language_info": {
   "codemirror_mode": {
    "name": "ipython",
    "version": 3
   },
   "file_extension": ".py",
   "mimetype": "text/x-python",
   "name": "python",
   "nbconvert_exporter": "python",
   "pygments_lexer": "ipython3",
   "version": "3.8.5"
  }
 },
 "nbformat": 4,
 "nbformat_minor": 4
}
